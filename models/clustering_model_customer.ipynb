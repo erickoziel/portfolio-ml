{
 "cells": [
  {
   "cell_type": "code",
   "execution_count": 1,
   "metadata": {},
   "outputs": [
    {
     "name": "stdout",
     "output_type": "stream",
     "text": [
      "Prediction for new instance: 2\n"
     ]
    },
    {
     "name": "stderr",
     "output_type": "stream",
     "text": [
      "/workspaces/portfolio-ml/venv/lib/python3.10/site-packages/sklearn/cluster/_kmeans.py:870: FutureWarning: The default value of `n_init` will change from 10 to 'auto' in 1.4. Set the value of `n_init` explicitly to suppress the warning\n",
      "  warnings.warn(\n",
      "/workspaces/portfolio-ml/venv/lib/python3.10/site-packages/sklearn/base.py:439: UserWarning: X does not have valid feature names, but KMeans was fitted with feature names\n",
      "  warnings.warn(\n"
     ]
    }
   ],
   "source": [
    "import pandas as pd\n",
    "from sklearn.cluster import KMeans\n",
    "import pickle\n",
    "\n",
    "# Assuming the dataset is in a CSV file named 'mall_customers.csv'\n",
    "url = 'https://raw.githubusercontent.com/tirthajyoti/Machine-Learning-with-Python/master/Datasets/Mall_Customers.csv'\n",
    "df = pd.read_csv(url)\n",
    "\n",
    "# Preprocessing\n",
    "df['Gender'] = df['Gender'].map({'Male': 0, 'Female': 1})  # Encoding Gender\n",
    "X = df[['Gender', 'Age', 'Annual Income (k$)', 'Spending Score (1-100)']]  # Selecting relevant features\n",
    "\n",
    "# Initialize and train the model\n",
    "model = KMeans(n_clusters=5, random_state=42)  # Choosing 5 as an example number of clusters\n",
    "model.fit(X)\n",
    "\n",
    "# save the model to disk\n",
    "with open('clustering_model.pkl', 'wb') as file:\n",
    "    pickle.dump(model, file)\n",
    "\n",
    "# Test with one new instance\n",
    "new_instance = [[1, 35, 90, 10]]  # A new customer\n",
    "pred = model.predict(new_instance)\n",
    "print(f\"Prediction for new instance: {pred[0]}\")  # The cluster number"
   ]
  }
 ],
 "metadata": {
  "kernelspec": {
   "display_name": "venv",
   "language": "python",
   "name": "python3"
  },
  "language_info": {
   "codemirror_mode": {
    "name": "ipython",
    "version": 3
   },
   "file_extension": ".py",
   "mimetype": "text/x-python",
   "name": "python",
   "nbconvert_exporter": "python",
   "pygments_lexer": "ipython3",
   "version": "3.10.13"
  }
 },
 "nbformat": 4,
 "nbformat_minor": 2
}
